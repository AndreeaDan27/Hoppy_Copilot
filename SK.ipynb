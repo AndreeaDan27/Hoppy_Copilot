{
 "cells": [
  {
   "cell_type": "code",
   "execution_count": 1,
   "metadata": {},
   "outputs": [
    {
     "name": "stdout",
     "output_type": "stream",
     "text": [
      "https://openai-sweden-central-andreea.openai.azure.com/\n"
     ]
    }
   ],
   "source": [
    "import os \n",
    "from dotenv import load_dotenv\n",
    "\n",
    "load_dotenv()\n",
    "\n",
    "print(os.getenv(\"AZURE_OPENAI_ENDPOINT\"))\n",
    "\n",
    "database_name = os.getenv('SQL_DATABASE_NAME')"
   ]
  },
  {
   "cell_type": "code",
   "execution_count": 2,
   "metadata": {},
   "outputs": [
    {
     "data": {
      "text/plain": [
       "Kernel(plugins=KernelPluginCollection(plugins={}), prompt_template_engine=PromptTemplateEngine(), memory=NullMemory(), text_completion_services={'chat_completion': <function Kernel.add_text_completion_service.<locals>.<lambda> at 0x000001DE7F59DA80>}, chat_services={'chat_completion': <function Kernel.add_chat_service.<locals>.<lambda> at 0x000001DE7F59D9E0>}, text_embedding_generation_services={}, default_text_completion_service='chat_completion', default_chat_service='chat_completion', default_text_embedding_generation_service=None, retry_mechanism=PassThroughWithoutRetry(), function_invoking_handlers={}, function_invoked_handlers={})"
      ]
     },
     "execution_count": 2,
     "metadata": {},
     "output_type": "execute_result"
    }
   ],
   "source": [
    "import semantic_kernel as sk\n",
    "from semantic_kernel.connectors.ai.open_ai import (\n",
    "    AzureChatCompletion,\n",
    "    OpenAIChatCompletion,\n",
    ")\n",
    "\n",
    "kernel = sk.Kernel()\n",
    "\n",
    "deployment, api_key, endpoint = sk.azure_openai_settings_from_dot_env()\n",
    "\n",
    "kernel.add_chat_service(\n",
    "    \"chat_completion\",\n",
    "    AzureChatCompletion(deployment_name=deployment, endpoint=endpoint, api_key=api_key),\n",
    ")"
   ]
  },
  {
   "cell_type": "code",
   "execution_count": 3,
   "metadata": {},
   "outputs": [],
   "source": [
    "sk_prompt = \"\"\"\n",
    "Generate a SQL query for a SQL Server database to retrieve data from an ERP system. Database name is called: {{$database}}\n",
    "Take into consideration that the schema for the Product table is the following: {{$schema}}\n",
    "The query should return the required data to satisfy the request of the user: {{$user_request}}\"\"\""
   ]
  },
  {
   "cell_type": "code",
   "execution_count": 4,
   "metadata": {},
   "outputs": [],
   "source": [
    "chat_function = kernel.create_semantic_function(\n",
    "    prompt_template=sk_prompt,\n",
    "    function_name=\"ChatBot\",\n",
    "    max_tokens=2000,\n",
    "    temperature=0.4,\n",
    "    top_p=0.5,\n",
    ")"
   ]
  },
  {
   "cell_type": "code",
   "execution_count": 5,
   "metadata": {},
   "outputs": [
    {
     "name": "stdout",
     "output_type": "stream",
     "text": [
      "Assuming that \"top 5 products\" refers to the products with the highest ProductID, the SQL query would be:\n",
      "\n",
      "```sql\n",
      "SELECT TOP 5 *\n",
      "FROM AdventureWorks_v1.dbo.Product\n",
      "ORDER BY ProductID DESC;\n",
      "```\n",
      "\n",
      "However, if \"top 5 products\" refers to the most sold products, you would need information from other tables such as SalesOrderDetail or similar. In that case, the query might look something like this:\n",
      "\n",
      "```sql\n",
      "SELECT TOP 5 p.ProductID, p.Name, p.ProductNumber, COUNT(s.ProductID) as QuantitySold\n",
      "FROM AdventureWorks_v1.dbo.Product p\n",
      "JOIN AdventureWorks_v1.dbo.SalesOrderDetail s ON p.ProductID = s.ProductID\n",
      "GROUP BY p.ProductID, p.Name, p.ProductNumber\n",
      "ORDER BY QuantitySold DESC;\n",
      "```\n",
      "\n",
      "Please note that the second query assumes that there is a table called SalesOrderDetail with a column ProductID that records every sale of each product. The actual table and column names might be different in your database.\n"
     ]
    }
   ],
   "source": [
    "schema = \"\"\" ProductID \n",
    "          int \n",
    "          PRIMARY KEY\n",
    "          Not Nullable        \n",
    "  \n",
    "          Name \n",
    "          nvarchar \n",
    "          No Constraint\n",
    "          Not Nullable        \n",
    "  \n",
    "          ProductNumber \n",
    "          nvarchar \n",
    "          No Constraint\n",
    "          Not Nullable\"\"\"\n",
    "\n",
    "context = kernel.create_new_context()\n",
    "context[\"database\"] = database_name\n",
    "context[\"schema\"] = schema\n",
    "context[\"user_request\"] = \"I want to see what are the top 5 products in our catalog\"\n",
    "\n",
    "bot_answer = await chat_function.invoke(context=context)\n",
    "\n",
    "print(bot_answer)\n"
   ]
  },
  {
   "cell_type": "markdown",
   "metadata": {},
   "source": [
    "Use semantic function from folder"
   ]
  },
  {
   "cell_type": "code",
   "execution_count": null,
   "metadata": {},
   "outputs": [],
   "source": [
    "plugin_func = kernel.import_semantic_plugin_from_directory(\"plugins/\", \"GetDataPlugin\")\n",
    "\n",
    "data_plugin = plugin_func[\"GetData\"]"
   ]
  },
  {
   "cell_type": "code",
   "execution_count": 9,
   "metadata": {},
   "outputs": [
    {
     "name": "stdout",
     "output_type": "stream",
     "text": [
      "SELECT TOP 5 Name, ProductNumber \n",
      "FROM [table_name] \n",
      "ORDER BY ProductID DESC;\n"
     ]
    }
   ],
   "source": [
    "result = await data_plugin.invoke(context=context)\n",
    "\n",
    "print(result)"
   ]
  }
 ],
 "metadata": {
  "kernelspec": {
   "display_name": ".venv",
   "language": "python",
   "name": "python3"
  },
  "language_info": {
   "codemirror_mode": {
    "name": "ipython",
    "version": 3
   },
   "file_extension": ".py",
   "mimetype": "text/x-python",
   "name": "python",
   "nbconvert_exporter": "python",
   "pygments_lexer": "ipython3",
   "version": "3.12.2"
  }
 },
 "nbformat": 4,
 "nbformat_minor": 2
}
