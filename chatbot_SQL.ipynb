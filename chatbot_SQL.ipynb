{
 "cells": [
  {
   "cell_type": "markdown",
   "metadata": {},
   "source": [
    "### Initialize variables"
   ]
  },
  {
   "cell_type": "code",
   "execution_count": 1,
   "metadata": {},
   "outputs": [],
   "source": [
    "import os\n",
    "from dotenv import load_dotenv\n",
    "import pyodbc\n",
    "import sqlalchemy as sa\n",
    "from sqlalchemy import create_engine\n",
    "\n",
    "from urllib.parse import quote_plus\n",
    "\n",
    "load_dotenv()\n",
    "\n",
    "\n",
    "server = os.getenv('SQL_SERVER_NAME')\n",
    "database_name = os.getenv('SQL_DATABASE_NAME')\n",
    "username = os.getenv('SQL_USER')\n",
    "password = os.getenv('SQL_PASSWORD')\n",
    "\n",
    "driver = '{ODBC Driver 17 for SQL Server}'"
   ]
  },
  {
   "cell_type": "markdown",
   "metadata": {},
   "source": [
    "# Initiate Database connection (SQL Server)"
   ]
  },
  {
   "cell_type": "code",
   "execution_count": 2,
   "metadata": {},
   "outputs": [],
   "source": [
    "conn = pyodbc.connect('DRIVER='+driver+';PORT=1433;SERVER='+server+';PORT=1443;DATABASE='+database_name+';UID='+username+';PWD='+ password)\n",
    "cursor = conn.cursor()"
   ]
  },
  {
   "cell_type": "markdown",
   "metadata": {},
   "source": [
    "# Initiate Semantic Kernel and Azure OpenAI Services"
   ]
  },
  {
   "cell_type": "code",
   "execution_count": 3,
   "metadata": {},
   "outputs": [
    {
     "data": {
      "text/plain": [
       "Kernel(plugins=KernelPluginCollection(plugins={}), prompt_template_engine=PromptTemplateEngine(), memory=NullMemory(), text_completion_services={'chat_completion': <function Kernel.add_text_completion_service.<locals>.<lambda> at 0x00000255AF9E2200>}, chat_services={'chat_completion': <function Kernel.add_chat_service.<locals>.<lambda> at 0x00000255AF9E2160>}, text_embedding_generation_services={}, default_text_completion_service='chat_completion', default_chat_service='chat_completion', default_text_embedding_generation_service=None, retry_mechanism=PassThroughWithoutRetry(), function_invoking_handlers={}, function_invoked_handlers={})"
      ]
     },
     "execution_count": 3,
     "metadata": {},
     "output_type": "execute_result"
    }
   ],
   "source": [
    "import semantic_kernel as sk\n",
    "from semantic_kernel.connectors.ai.open_ai import (\n",
    "    AzureChatCompletion,\n",
    "    OpenAIChatCompletion,\n",
    ")\n",
    "\n",
    "kernel = sk.Kernel()\n",
    "\n",
    "deployment, api_key, endpoint = sk.azure_openai_settings_from_dot_env()\n",
    "\n",
    "kernel.add_chat_service(\n",
    "    \"chat_completion\",\n",
    "    AzureChatCompletion(deployment_name=deployment, endpoint=endpoint, api_key=api_key),\n",
    ")\n",
    "\n"
   ]
  },
  {
   "cell_type": "markdown",
   "metadata": {},
   "source": [
    "## Get Data"
   ]
  },
  {
   "cell_type": "markdown",
   "metadata": {},
   "source": [
    "### Get schema and save it to a SQL table"
   ]
  },
  {
   "cell_type": "code",
   "execution_count": 4,
   "metadata": {},
   "outputs": [],
   "source": [
    "# query to get the schema of the database\n",
    "query_get_raw_schema = \"\"\"\n",
    "SELECT\n",
    "    col.TABLE_SCHEMA + '.' + col.TABLE_NAME AS TABLE_NAME,\n",
    "    col.COLUMN_NAME,\n",
    "    col.DATA_TYPE,\n",
    "    ISNULL(tc.CONSTRAINT_TYPE, 'NONE') AS CONSTRAINT_TYPE,\n",
    "    col.IS_NULLABLE\n",
    "FROM\n",
    "    INFORMATION_SCHEMA.COLUMNS col\n",
    "LEFT JOIN INFORMATION_SCHEMA.KEY_COLUMN_USAGE kcu\n",
    "    ON col.COLUMN_NAME = kcu.COLUMN_NAME AND col.TABLE_NAME = kcu.TABLE_NAME AND col.TABLE_SCHEMA = kcu.TABLE_SCHEMA\n",
    "LEFT JOIN INFORMATION_SCHEMA.TABLE_CONSTRAINTS tc\n",
    "    ON kcu.CONSTRAINT_NAME = tc.CONSTRAINT_NAME AND kcu.TABLE_NAME = tc.TABLE_NAME AND kcu.TABLE_SCHEMA = tc.TABLE_SCHEMA\n",
    "ORDER BY\n",
    "    col.TABLE_SCHEMA,\n",
    "    col.TABLE_NAME,\n",
    "    col.ORDINAL_POSITION;\n",
    "\n",
    "\"\"\"\n",
    "\n",
    "cursor.execute(query_get_raw_schema)\n",
    "\n",
    "columns = cursor.fetchall()\n",
    "\n",
    "# iterate over the columns and insert them into the new table Adventure_Works_Schema or update them if they already exist\n",
    "for column in columns:\n",
    "\n",
    "    cursor.execute(\"\"\"\n",
    "MERGE dbo.Adventure_Works_Schema AS target\n",
    "USING (SELECT ? AS TableName, ? AS ColumnName, ? AS DataType, ? AS ConstraintType, ? AS Nullable) AS source\n",
    "ON (target.TableName = source.TableName AND target.ColumnName = source.ColumnName)\n",
    "WHEN MATCHED THEN \n",
    "    UPDATE SET DataType = source.DataType, \n",
    "               ConstraintType = source.ConstraintType, \n",
    "               Nullable = source.Nullable\n",
    "WHEN NOT MATCHED BY TARGET THEN \n",
    "    INSERT (TableName, ColumnName, DataType, ConstraintType, Nullable) \n",
    "    VALUES (source.TableName, source.ColumnName, source.DataType, source.ConstraintType, source.Nullable);\n",
    "\"\"\", column.TABLE_NAME, column.COLUMN_NAME, column.DATA_TYPE, column.CONSTRAINT_TYPE, column.IS_NULLABLE)\n",
    "    \n",
    "# commit the changes to the DB\n",
    "conn.commit()"
   ]
  },
  {
   "cell_type": "markdown",
   "metadata": {},
   "source": [
    "### AOAI model analyze schema and user request\n",
    "\n",
    "Get from Schema the following information: TableName, ColumnName and ConstraintType"
   ]
  },
  {
   "cell_type": "code",
   "execution_count": 5,
   "metadata": {},
   "outputs": [
    {
     "name": "stdout",
     "output_type": "stream",
     "text": [
      " Table: dbo.Adventure_Works_Schema - TableName ColumnName DataType ConstraintType Nullable Table: dbo.AdventureWorks_Schema - TableName ColumnName DataType ConstraintType Nullable Table: dbo.AWBuildVersion - SystemInformationID(PRIMARY KEY) Database Version VersionDate ModifiedDate Table: dbo.DatabaseLog - DatabaseLogID(PRIMARY KEY) PostTime DatabaseUser Event Schema Object TSQL XmlEvent Table: dbo.ErrorLog - ErrorLogID(PRIMARY KEY) ErrorTime UserName ErrorNumber ErrorSeverity ErrorState ErrorProcedure ErrorLine ErrorMessage Table: HumanResources.Department - DepartmentID(PRIMARY KEY) Name GroupName ModifiedDate Table: HumanResources.Employee - BusinessEntityID(PRIMARY KEY) NationalIDNumber LoginID OrganizationNode OrganizationLevel JobTitle BirthDate MaritalStatus Gender HireDate SalariedFlag VacationHours SickLeaveHours CurrentFlag rowguid ModifiedDate Table: HumanResources.EmployeeDepartmentHistory - BusinessEntityID(PRIMARY KEY) DepartmentID(PRIMARY KEY) ShiftID(PRIMARY KEY) StartDate(PRIMARY KEY) EndDate ModifiedDate Table: HumanResources.EmployeePayHistory - BusinessEntityID(PRIMARY KEY) RateChangeDate(PRIMARY KEY) Rate PayFrequency ModifiedDate Table: HumanResources.JobCandidate - JobCandidateID(PRIMARY KEY) BusinessEntityID(FOREIGN KEY) Resume ModifiedDate Table: HumanResources.Shift - ShiftID(PRIMARY KEY) Name StartTime EndTime ModifiedDate Table: HumanResources.vEmployee - BusinessEntityID Title FirstName MiddleName LastName Suffix JobTitle PhoneNumber PhoneNumberType EmailAddress EmailPromotion AddressLine1 AddressLine2 City StateProvinceName PostalCode CountryRegionName AdditionalContactInfo Table: HumanResources.vEmployeeDepartment - BusinessEntityID Title FirstName MiddleName LastName Suffix JobTitle Department GroupName StartDate Table: HumanResources.vEmployeeDepartmentHistory - BusinessEntityID Title FirstName MiddleName LastName Suffix Shift Department GroupName StartDate EndDate Table: HumanResources.vJobCandidate - JobCandidateID BusinessEntityID Name.Prefix Name.First Name.Middle Name.Last Name.Suffix Skills Addr.Type Addr.Loc.CountryRegion Addr.Loc.State Addr.Loc.City Addr.PostalCode EMail WebSite ModifiedDate Table: HumanResources.vJobCandidateEducation - JobCandidateID Edu.Level Edu.StartDate Edu.EndDate Edu.Degree Edu.Major Edu.Minor Edu.GPA Edu.GPAScale Edu.School Edu.Loc.CountryRegion Edu.Loc.State Edu.Loc.City Table: HumanResources.vJobCandidateEmployment - JobCandidateID Emp.StartDate Emp.EndDate Emp.OrgName Emp.JobTitle Emp.Responsibility Emp.FunctionCategory Emp.IndustryCategory Emp.Loc.CountryRegion Emp.Loc.State Emp.Loc.City Table: Person.Address - AddressID(PRIMARY KEY) AddressLine1 AddressLine2 City StateProvinceID(FOREIGN KEY) PostalCode SpatialLocation rowguid ModifiedDate Table: Person.AddressType - AddressTypeID(PRIMARY KEY) Name rowguid ModifiedDate Table: Person.BusinessEntity - BusinessEntityID(PRIMARY KEY) rowguid ModifiedDate Table: Person.BusinessEntityAddress - BusinessEntityID(PRIMARY KEY) AddressID(PRIMARY KEY) AddressTypeID(PRIMARY KEY) rowguid ModifiedDate Table: Person.BusinessEntityContact - BusinessEntityID(PRIMARY KEY) PersonID(PRIMARY KEY) ContactTypeID(PRIMARY KEY) rowguid ModifiedDate Table: Person.ContactType - ContactTypeID(PRIMARY KEY) Name ModifiedDate Table: Person.CountryRegion - CountryRegionCode(PRIMARY KEY) Name ModifiedDate Table: Person.EmailAddress - BusinessEntityID(PRIMARY KEY) EmailAddressID(PRIMARY KEY) EmailAddress rowguid ModifiedDate Table: Person.Password - BusinessEntityID(PRIMARY KEY) PasswordHash PasswordSalt rowguid ModifiedDate Table: Person.Person - BusinessEntityID(PRIMARY KEY) PersonType NameStyle Title FirstName MiddleName LastName Suffix EmailPromotion AdditionalContactInfo Demographics rowguid ModifiedDate Table: Person.PersonPhone - BusinessEntityID(PRIMARY KEY) PhoneNumber(PRIMARY KEY) PhoneNumberTypeID(PRIMARY KEY) ModifiedDate Table: Person.PhoneNumberType - PhoneNumberTypeID(PRIMARY KEY) Name ModifiedDate Table: Person.StateProvince - StateProvinceID(PRIMARY KEY) StateProvinceCode CountryRegionCode(FOREIGN KEY) IsOnlyStateProvinceFlag Name TerritoryID(FOREIGN KEY) rowguid ModifiedDate Table: Person.vAdditionalContactInfo - BusinessEntityID FirstName MiddleName LastName TelephoneNumber TelephoneSpecialInstructions Street City StateProvince PostalCode CountryRegion HomeAddressSpecialInstructions EMailAddress EMailSpecialInstructions EMailTelephoneNumber rowguid ModifiedDate Table: Person.vStateProvinceCountryRegion - StateProvinceID StateProvinceCode IsOnlyStateProvinceFlag StateProvinceName TerritoryID CountryRegionCode CountryRegionName Table: Production.BillOfMaterials - BillOfMaterialsID(PRIMARY KEY) ProductAssemblyID(FOREIGN KEY) ComponentID(FOREIGN KEY) StartDate EndDate UnitMeasureCode(FOREIGN KEY) BOMLevel PerAssemblyQty ModifiedDate Table: Production.Culture - CultureID(PRIMARY KEY) Name ModifiedDate Table: Production.Document - DocumentNode(PRIMARY KEY) DocumentLevel Title Owner(FOREIGN KEY) FolderFlag FileName FileExtension Revision ChangeNumber Status DocumentSummary Document rowguid(UNIQUE) ModifiedDate Table: Production.Illustration - IllustrationID(PRIMARY KEY) Diagram ModifiedDate Table: Production.Location - LocationID(PRIMARY KEY) Name CostRate Availability ModifiedDate Table: Production.Product - ProductID(PRIMARY KEY) Name ProductNumber MakeFlag FinishedGoodsFlag Color SafetyStockLevel ReorderPoint StandardCost ListPrice Size SizeUnitMeasureCode(FOREIGN KEY) WeightUnitMeasureCode(FOREIGN KEY) Weight DaysToManufacture ProductLine Class Style ProductSubcategoryID(FOREIGN KEY) ProductModelID(FOREIGN KEY) SellStartDate SellEndDate DiscontinuedDate rowguid ModifiedDate Table: Production.ProductCategory - ProductCategoryID(PRIMARY KEY) Name rowguid ModifiedDate Table: Production.ProductCostHistory - ProductID(PRIMARY KEY) StartDate(PRIMARY KEY) EndDate StandardCost ModifiedDate Table: Production.ProductDescription - ProductDescriptionID(PRIMARY KEY) Description rowguid ModifiedDate Table: Production.ProductDocument - ProductID(PRIMARY KEY) DocumentNode(PRIMARY KEY) ModifiedDate Table: Production.ProductInventory - ProductID(PRIMARY KEY) LocationID(PRIMARY KEY) Shelf Bin Quantity rowguid ModifiedDate Table: Production.ProductListPriceHistory - ProductID(PRIMARY KEY) StartDate(PRIMARY KEY) EndDate ListPrice ModifiedDate Table: Production.ProductModel - ProductModelID(PRIMARY KEY) Name CatalogDescription Instructions rowguid ModifiedDate Table: Production.ProductModelIllustration - ProductModelID(PRIMARY KEY) IllustrationID(PRIMARY KEY) ModifiedDate Table: Production.ProductModelProductDescriptionCulture - ProductModelID(PRIMARY KEY) ProductDescriptionID(PRIMARY KEY) CultureID(PRIMARY KEY) ModifiedDate Table: Production.ProductPhoto - ProductPhotoID(PRIMARY KEY) ThumbNailPhoto ThumbnailPhotoFileName LargePhoto LargePhotoFileName ModifiedDate Table: Production.ProductProductPhoto - ProductID(PRIMARY KEY) ProductPhotoID(PRIMARY KEY) Primary ModifiedDate Table: Production.ProductReview - ProductReviewID(PRIMARY KEY) ProductID(FOREIGN KEY) ReviewerName ReviewDate EmailAddress Rating Comments ModifiedDate Table: Production.ProductSubcategory - ProductSubcategoryID(PRIMARY KEY) ProductCategoryID(FOREIGN KEY) Name rowguid ModifiedDate Table: Production.ScrapReason - ScrapReasonID(PRIMARY KEY) Name ModifiedDate Table: Production.TransactionHistory - TransactionID(PRIMARY KEY) ProductID(FOREIGN KEY) ReferenceOrderID ReferenceOrderLineID TransactionDate TransactionType Quantity ActualCost ModifiedDate Table: Production.TransactionHistoryArchive - TransactionID(PRIMARY KEY) ProductID ReferenceOrderID ReferenceOrderLineID TransactionDate TransactionType Quantity ActualCost ModifiedDate Table: Production.UnitMeasure - UnitMeasureCode(PRIMARY KEY) Name ModifiedDate Table: Production.vProductAndDescription - ProductID Name ProductModel CultureID Description Table: Production.vProductModelCatalogDescription - ProductModelID Name Summary Manufacturer Copyright ProductURL WarrantyPeriod WarrantyDescription NoOfYears MaintenanceDescription Wheel Saddle Pedal BikeFrame Crankset PictureAngle PictureSize ProductPhotoID Material Color ProductLine Style RiderExperience rowguid ModifiedDate Table: Production.vProductModelInstructions - ProductModelID Name Instructions LocationID SetupHours MachineHours LaborHours LotSize Step rowguid ModifiedDate Table: Production.WorkOrder - WorkOrderID(PRIMARY KEY) ProductID(FOREIGN KEY) OrderQty StockedQty ScrappedQty StartDate EndDate DueDate ScrapReasonID(FOREIGN KEY) ModifiedDate Table: Production.WorkOrderRouting - WorkOrderID(PRIMARY KEY) ProductID(PRIMARY KEY) OperationSequence(PRIMARY KEY) LocationID(FOREIGN KEY) ScheduledStartDate ScheduledEndDate ActualStartDate ActualEndDate ActualResourceHrs PlannedCost ActualCost ModifiedDate Table: Purchasing.ProductVendor - ProductID(PRIMARY KEY) BusinessEntityID(PRIMARY KEY) AverageLeadTime StandardPrice LastReceiptCost LastReceiptDate MinOrderQty MaxOrderQty OnOrderQty UnitMeasureCode(FOREIGN KEY) ModifiedDate Table: Purchasing.PurchaseOrderDetail - PurchaseOrderID(PRIMARY KEY) PurchaseOrderDetailID(PRIMARY KEY) DueDate OrderQty ProductID(FOREIGN KEY) UnitPrice LineTotal ReceivedQty RejectedQty StockedQty ModifiedDate Table: Purchasing.PurchaseOrderHeader - PurchaseOrderID(PRIMARY KEY) RevisionNumber Status EmployeeID(FOREIGN KEY) VendorID(FOREIGN KEY) ShipMethodID(FOREIGN KEY) OrderDate ShipDate SubTotal TaxAmt Freight TotalDue ModifiedDate Table: Purchasing.ShipMethod - ShipMethodID(PRIMARY KEY) Name ShipBase ShipRate rowguid ModifiedDate Table: Purchasing.Vendor - BusinessEntityID(PRIMARY KEY) AccountNumber Name CreditRating PreferredVendorStatus ActiveFlag PurchasingWebServiceURL ModifiedDate Table: Purchasing.vVendorWithAddresses - BusinessEntityID Name AddressType AddressLine1 AddressLine2 City StateProvinceName PostalCode CountryRegionName Table: Purchasing.vVendorWithContacts - BusinessEntityID Name ContactType Title FirstName MiddleName LastName Suffix PhoneNumber PhoneNumberType EmailAddress EmailPromotion Table: Sales.CountryRegionCurrency - CountryRegionCode(PRIMARY KEY) CurrencyCode(PRIMARY KEY) ModifiedDate Table: Sales.CreditCard - CreditCardID(PRIMARY KEY) CardType CardNumber ExpMonth ExpYear ModifiedDate Table: Sales.Currency - CurrencyCode(PRIMARY KEY) Name ModifiedDate Table: Sales.CurrencyRate - CurrencyRateID(PRIMARY KEY) CurrencyRateDate FromCurrencyCode(FOREIGN KEY) ToCurrencyCode(FOREIGN KEY) AverageRate EndOfDayRate ModifiedDate Table: Sales.Customer - CustomerID(PRIMARY KEY) PersonID(FOREIGN KEY) StoreID(FOREIGN KEY) TerritoryID(FOREIGN KEY) AccountNumber rowguid ModifiedDate Table: Sales.PersonCreditCard - BusinessEntityID(PRIMARY KEY) CreditCardID(PRIMARY KEY) ModifiedDate Table: Sales.SalesOrderDetail - SalesOrderID(PRIMARY KEY) SalesOrderDetailID(PRIMARY KEY) CarrierTrackingNumber OrderQty ProductID(FOREIGN KEY) SpecialOfferID(FOREIGN KEY) UnitPrice UnitPriceDiscount LineTotal rowguid ModifiedDate Table: Sales.SalesOrderHeader - SalesOrderID(PRIMARY KEY) RevisionNumber OrderDate DueDate ShipDate Status OnlineOrderFlag SalesOrderNumber PurchaseOrderNumber AccountNumber CustomerID(FOREIGN KEY) SalesPersonID(FOREIGN KEY) TerritoryID(FOREIGN KEY) BillToAddressID(FOREIGN KEY) ShipToAddressID(FOREIGN KEY) ShipMethodID(FOREIGN KEY) CreditCardID(FOREIGN KEY) CreditCardApprovalCode CurrencyRateID(FOREIGN KEY) SubTotal TaxAmt Freight TotalDue Comment rowguid ModifiedDate Table: Sales.SalesOrderHeaderSalesReason - SalesOrderID(PRIMARY KEY) SalesReasonID(PRIMARY KEY) ModifiedDate Table: Sales.SalesPerson - BusinessEntityID(PRIMARY KEY) TerritoryID(FOREIGN KEY) SalesQuota Bonus CommissionPct SalesYTD SalesLastYear rowguid ModifiedDate Table: Sales.SalesPersonQuotaHistory - BusinessEntityID(PRIMARY KEY) QuotaDate(PRIMARY KEY) SalesQuota rowguid ModifiedDate Table: Sales.SalesReason - SalesReasonID(PRIMARY KEY) Name ReasonType ModifiedDate Table: Sales.SalesTaxRate - SalesTaxRateID(PRIMARY KEY) StateProvinceID(FOREIGN KEY) TaxType TaxRate Name rowguid ModifiedDate Table: Sales.SalesTerritory - TerritoryID(PRIMARY KEY) Name CountryRegionCode(FOREIGN KEY) Group SalesYTD SalesLastYear CostYTD CostLastYear rowguid ModifiedDate Table: Sales.SalesTerritoryHistory - BusinessEntityID(PRIMARY KEY) TerritoryID(PRIMARY KEY) StartDate(PRIMARY KEY) EndDate rowguid ModifiedDate Table: Sales.ShoppingCartItem - ShoppingCartItemID(PRIMARY KEY) ShoppingCartID Quantity ProductID(FOREIGN KEY) DateCreated ModifiedDate Table: Sales.SpecialOffer - SpecialOfferID(PRIMARY KEY) Description DiscountPct Type Category StartDate EndDate MinQty MaxQty rowguid ModifiedDate Table: Sales.SpecialOfferProduct - SpecialOfferID(PRIMARY KEY) ProductID(PRIMARY KEY) rowguid ModifiedDate Table: Sales.Store - BusinessEntityID(PRIMARY KEY) Name SalesPersonID(FOREIGN KEY) Demographics rowguid ModifiedDate Table: Sales.vIndividualCustomer - BusinessEntityID Title FirstName MiddleName LastName Suffix PhoneNumber PhoneNumberType EmailAddress EmailPromotion AddressType AddressLine1 AddressLine2 City StateProvinceName PostalCode CountryRegionName Demographics Table: Sales.vPersonDemographics - BusinessEntityID TotalPurchaseYTD DateFirstPurchase BirthDate MaritalStatus YearlyIncome Gender TotalChildren NumberChildrenAtHome Education Occupation HomeOwnerFlag NumberCarsOwned Table: Sales.vSalesPerson - BusinessEntityID Title FirstName MiddleName LastName Suffix JobTitle PhoneNumber PhoneNumberType EmailAddress EmailPromotion AddressLine1 AddressLine2 City StateProvinceName PostalCode CountryRegionName TerritoryName TerritoryGroup SalesQuota SalesYTD SalesLastYear Table: Sales.vSalesPersonSalesByFiscalYears - SalesPersonID FullName JobTitle SalesTerritory 2002 2003 2004 Table: Sales.vStoreWithAddresses - BusinessEntityID Name AddressType AddressLine1 AddressLine2 City StateProvinceName PostalCode CountryRegionName Table: Sales.vStoreWithContacts - BusinessEntityID Name ContactType Title FirstName MiddleName LastName Suffix PhoneNumber PhoneNumberType EmailAddress EmailPromotion Table: Sales.vStoreWithDemographics - BusinessEntityID Name AnnualSales AnnualRevenue BankName BusinessType YearOpened Specialty SquareFeet Brands Internet NumberEmployees Table: sys.database_firewall_rules - id name start_ip_address end_ip_address create_date modify_date\n"
     ]
    }
   ],
   "source": [
    "# query to get the schema of the database\n",
    "query_get_full_schema = \"\"\"\n",
    "SELECT TableName, ColumnName, ConstraintType\n",
    "FROM dbo.Adventure_Works_Schema;\n",
    ";\n",
    "\"\"\"\n",
    "\n",
    "cursor.execute(query_get_full_schema)\n",
    "\n",
    "schema_columns = cursor.fetchall()\n",
    "\n",
    "full_schema = \"\"\n",
    "table_name = \"\"\n",
    "\n",
    "# iterate over the columns and insert them into the new table Database_Schema\n",
    "for column in schema_columns:\n",
    "\n",
    "    if column.TableName == \"Adventure_Works_Schema\":\n",
    "        continue\n",
    "    \n",
    "    if column.TableName != table_name:\n",
    "        full_schema += \" Table: \" + f\"{column.TableName} -\"\n",
    "        table_name = column.TableName\n",
    "    full_schema += f\" {column.ColumnName}{'(' + column.ConstraintType + ')' if column.ConstraintType != 'NONE' else ''}\"\n",
    "\n",
    "print(full_schema)\n",
    "\n"
   ]
  },
  {
   "cell_type": "markdown",
   "metadata": {},
   "source": [
    "Model to look over the schema and user query and decide what tables and columns are relevant."
   ]
  },
  {
   "cell_type": "code",
   "execution_count": 6,
   "metadata": {},
   "outputs": [
    {
     "name": "stdout",
     "output_type": "stream",
     "text": [
      "SELECT TOP 5 p.Name\n",
      "FROM Production.Product p\n",
      "JOIN Sales.SalesOrderDetail sod ON p.ProductID = sod.ProductID\n",
      "GROUP BY p.Name\n",
      "ORDER BY SUM(sod.OrderQty) DESC;\n"
     ]
    }
   ],
   "source": [
    "sk_prompt_analyze_schema = \"\"\"\n",
    "Analyze the schema of the database and decide which tables and columns are relevant for answering the user's request. Schema: {{$schema}}, User request {{$user_request}}.\n",
    "Output solely the SQL query for SQL server.\n",
    "\"\"\"\n",
    "\n",
    "chat_function = kernel.create_semantic_function(\n",
    "    prompt_template=sk_prompt_analyze_schema,\n",
    "    function_name=\"ChatBot\",\n",
    "    max_tokens=2000,\n",
    "    temperature=0.4,\n",
    "    top_p=0.5,\n",
    ")\n",
    "\n",
    "context = kernel.create_new_context()\n",
    "context[\"schema\"] = full_schema\n",
    "context[\"user_request\"] = \"I want to see what are the names of top 5 products best selling in our catalog\"\n",
    "\n",
    "bot_answer = await chat_function.invoke(context=context)\n",
    "\n",
    "print(bot_answer)"
   ]
  },
  {
   "cell_type": "markdown",
   "metadata": {},
   "source": [
    "## Retrieve data required to answer user request"
   ]
  },
  {
   "cell_type": "code",
   "execution_count": 7,
   "metadata": {},
   "outputs": [
    {
     "name": "stdout",
     "output_type": "stream",
     "text": [
      "('AWC Logo Cap',)\n",
      "('Water Bottle - 30 oz.',)\n",
      "('Sport-100 Helmet, Blue',)\n",
      "('Long-Sleeve Logo Jersey, L',)\n",
      "('Sport-100 Helmet, Black',)\n",
      "\n"
     ]
    }
   ],
   "source": [
    "# query to get the schema of the database\n",
    "query_get_answer_data = bot_answer.result\n",
    "\n",
    "cursor.execute(query_get_answer_data)\n",
    "\n",
    "answer_raw_data = cursor.fetchall()\n",
    "\n",
    "answer_data = \"\"\n",
    "\n",
    "# iterate over the columns and insert them into the new table Database_Schema\n",
    "for data in answer_raw_data:    \n",
    "    answer_data += str(data) + \"\\n\"\n",
    "\n",
    "print(answer_data)\n"
   ]
  },
  {
   "cell_type": "markdown",
   "metadata": {},
   "source": [
    "## Generate answer back to the user based on retrieved data"
   ]
  },
  {
   "cell_type": "code",
   "execution_count": 8,
   "metadata": {},
   "outputs": [
    {
     "name": "stdout",
     "output_type": "stream",
     "text": [
      "The top 5 best selling products in our catalog are: \n",
      "1. AWC Logo Cap \n",
      "2. Water Bottle - 30 oz. \n",
      "3. Sport-100 Helmet, Blue \n",
      "4. Long-Sleeve Logo Jersey, L \n",
      "5. Sport-100 Helmet, Black.\n"
     ]
    }
   ],
   "source": [
    "sk_prompt_reply_user = \"\"\"\n",
    "Use the given information (retrieved_data) to answer the user's request. User request: {{$user_request}}. Retrieved_data: {{$retrieved_data}}.\n",
    "\"\"\"\n",
    "\n",
    "reply_function = kernel.create_semantic_function(\n",
    "    prompt_template=sk_prompt_reply_user,\n",
    "    function_name=\"ChatBot\",\n",
    "    max_tokens=2000,\n",
    "    temperature=0.7,\n",
    "    top_p=0.5,\n",
    ")\n",
    "\n",
    "context[\"retrieved_data\"] = answer_data\n",
    "\n",
    "bot_answer = await reply_function.invoke(context=context)\n",
    "\n",
    "print(bot_answer)"
   ]
  },
  {
   "cell_type": "markdown",
   "metadata": {},
   "source": [
    "---------------------------------------------------- DRAFT ------------------------------------------------------------------------------\n",
    "## Generate Queries"
   ]
  },
  {
   "cell_type": "code",
   "execution_count": 33,
   "metadata": {},
   "outputs": [],
   "source": [
    "sk_prompt = \"\"\"\n",
    "Generate a SQL query for a SQL Server database to retrieve data from an ERP system. Database name is called: {{$database}}\n",
    "Take into consideration the schema for all tables: {{$schema}}\n",
    "The query should return the required data to satisfy the request of the user: {{$user_request}}\"\"\""
   ]
  },
  {
   "cell_type": "code",
   "execution_count": 34,
   "metadata": {},
   "outputs": [],
   "source": []
  },
  {
   "cell_type": "code",
   "execution_count": 35,
   "metadata": {},
   "outputs": [
    {
     "name": "stdout",
     "output_type": "stream",
     "text": [
      "Error: (<ErrorCodes.ServiceError: 6>, \"<class 'semantic_kernel.connectors.ai.open_ai.services.azure_chat_completion.AzureChatCompletion'> service failed to complete the prompt\", BadRequestError('Error code: 400 - {\\'error\\': {\\'message\\': \"This model\\'s maximum context length is 8192 tokens. However, your messages resulted in 9459 tokens. Please reduce the length of the messages.\", \\'type\\': \\'invalid_request_error\\', \\'param\\': \\'messages\\', \\'code\\': \\'context_length_exceeded\\'}}'))\n"
     ]
    }
   ],
   "source": [
    "chat_function = kernel.create_semantic_function(\n",
    "    prompt_template=sk_prompt,\n",
    "    function_name=\"ChatBot\",\n",
    "    max_tokens=2000,\n",
    "    temperature=0.4,\n",
    "    top_p=0.5,\n",
    ")\n",
    "\n",
    "context = kernel.create_new_context()\n",
    "context[\"database\"] = database_name\n",
    "context[\"schema\"] = schema\n",
    "context[\"user_request\"] = \"I want to see what are the top 5 products in our catalog\"\n",
    "\n",
    "bot_answer = await chat_function.invoke(context=context)\n",
    "\n",
    "print(bot_answer)\n"
   ]
  }
 ],
 "metadata": {
  "kernelspec": {
   "display_name": ".venv",
   "language": "python",
   "name": "python3"
  },
  "language_info": {
   "codemirror_mode": {
    "name": "ipython",
    "version": 3
   },
   "file_extension": ".py",
   "mimetype": "text/x-python",
   "name": "python",
   "nbconvert_exporter": "python",
   "pygments_lexer": "ipython3",
   "version": "3.12.2"
  }
 },
 "nbformat": 4,
 "nbformat_minor": 2
}
