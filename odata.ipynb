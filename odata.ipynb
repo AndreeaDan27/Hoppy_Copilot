{
 "cells": [
  {
   "cell_type": "markdown",
   "metadata": {},
   "source": [
    "# OData demo\n",
    "\n",
    "Resource: https://www.odata.org/odata-services/"
   ]
  },
  {
   "cell_type": "code",
   "execution_count": 11,
   "metadata": {},
   "outputs": [
    {
     "name": "stdout",
     "output_type": "stream",
     "text": [
      "Succeeded to retrieve data: 200\n"
     ]
    }
   ],
   "source": [
    "import requests\n",
    "from requests.auth import HTTPBasicAuth\n",
    "\n",
    "import os\n",
    "from dotenv import load_dotenv\n",
    "\n",
    "load_dotenv()\n",
    "\n",
    "\n",
    "# Your OData service URL\n",
    "url = 'https://services.odata.org/TripPinRESTierService/$metadata'\n",
    "\n",
    "\n",
    "# Make a GET request with basic authentication\n",
    "metadata_response = requests.get(url)\n",
    "\n",
    "# Check if the request was successful\n",
    "if metadata_response.status_code == 200:\n",
    "    # Process the response data (assuming it's JSON)\n",
    "    print(f\"Succeeded to retrieve data: {metadata_response.status_code}\")\n",
    "else:\n",
    "    print(f\"Failed to retrieve data: {metadata_response.status_code}\")\n"
   ]
  },
  {
   "cell_type": "code",
   "execution_count": 27,
   "metadata": {},
   "outputs": [
    {
     "name": "stdout",
     "output_type": "stream",
     "text": [
      "b'<?xml version=\"1.0\" encoding=\"utf-8\"?><edmx:Edmx Version=\"4.0\" xmlns:edmx=\"http://docs.oasis-open.org/odata/ns/edmx\"><edmx:DataServices><Schema Namespace=\"Trippin\" xmlns=\"http://docs.oasis-open.org/odata/ns/edm\"><EntityType Name=\"Person\"><Key><PropertyRef Name=\"UserName\" /></Key><Property Name=\"UserName\" Type=\"Edm.String\" Nullable=\"false\" /><Property Name=\"FirstName\" Type=\"Edm.String\" Nullable=\"false\" /><Property Name=\"LastName\" Type=\"Edm.String\" MaxLength=\"26\" /><Property Name=\"MiddleName\" Type=\"Edm.String\" /><Property Name=\"Gender\" Type=\"Trippin.PersonGender\" Nullable=\"false\" /><Property Name=\"Age\" Type=\"Edm.Int64\" /><Property Name=\"Emails\" Type=\"Collection(Edm.String)\" /><Property Name=\"AddressInfo\" Type=\"Collection(Trippin.Location)\" /><Property Name=\"HomeAddress\" Type=\"Trippin.Location\" /><Property Name=\"FavoriteFeature\" Type=\"Trippin.Feature\" Nullable=\"false\" /><Property Name=\"Features\" Type=\"Collection(Trippin.Feature)\" Nullable=\"false\" /><NavigationProperty Name=\"Friends\" Type=\"Collection(Trippin.Person)\" /><NavigationProperty Name=\"BestFriend\" Type=\"Trippin.Person\" /><NavigationProperty Name=\"Trips\" Type=\"Collection(Trippin.Trip)\" /></EntityType><EntityType Name=\"Airline\"><Key><PropertyRef Name=\"AirlineCode\" /></Key><Property Name=\"AirlineCode\" Type=\"Edm.String\" Nullable=\"false\" /><Property Name=\"Name\" Type=\"Edm.String\" /></EntityType><EntityType Name=\"Airport\"><Key><PropertyRef Name=\"IcaoCode\" /></Key><Property Name=\"Name\" Type=\"Edm.String\" /><Property Name=\"IcaoCode\" Type=\"Edm.String\" Nullable=\"false\" /><Property Name=\"IataCode\" Type=\"Edm.String\" /><Property Name=\"Location\" Type=\"Trippin.AirportLocation\" /></EntityType><ComplexType Name=\"Location\"><Property Name=\"Address\" Type=\"Edm.String\" /><Property Name=\"City\" Type=\"Trippin.City\" /></ComplexType><ComplexType Name=\"City\"><Property Name=\"Name\" Type=\"Edm.String\" /><Property Name=\"CountryRegion\" Type=\"Edm.String\" /><Property Name=\"Region\" Type=\"Edm.String\" /></ComplexType><ComplexType Name=\"AirportLocation\" BaseType=\"Trippin.Location\"><Property Name=\"Loc\" Type=\"Edm.GeographyPoint\" /></ComplexType><ComplexType Name=\"EventLocation\" BaseType=\"Trippin.Location\"><Property Name=\"BuildingInfo\" Type=\"Edm.String\" /></ComplexType><EntityType Name=\"Trip\"><Key><PropertyRef Name=\"TripId\" /></Key><Property Name=\"TripId\" Type=\"Edm.Int32\" Nullable=\"false\" /><Property Name=\"ShareId\" Type=\"Edm.Guid\" Nullable=\"false\" /><Property Name=\"Name\" Type=\"Edm.String\" /><Property Name=\"Budget\" Type=\"Edm.Single\" Nullable=\"false\" /><Property Name=\"Description\" Type=\"Edm.String\" /><Property Name=\"Tags\" Type=\"Collection(Edm.String)\" /><Property Name=\"StartsAt\" Type=\"Edm.DateTimeOffset\" Nullable=\"false\" /><Property Name=\"EndsAt\" Type=\"Edm.DateTimeOffset\" Nullable=\"false\" /><NavigationProperty Name=\"PlanItems\" Type=\"Collection(Trippin.PlanItem)\" /></EntityType><EntityType Name=\"PlanItem\"><Key><PropertyRef Name=\"PlanItemId\" /></Key><Property Name=\"PlanItemId\" Type=\"Edm.Int32\" Nullable=\"false\" /><Property Name=\"ConfirmationCode\" Type=\"Edm.String\" /><Property Name=\"StartsAt\" Type=\"Edm.DateTimeOffset\" Nullable=\"false\" /><Property Name=\"EndsAt\" Type=\"Edm.DateTimeOffset\" Nullable=\"false\" /><Property Name=\"Duration\" Type=\"Edm.Duration\" Nullable=\"false\" /></EntityType><EntityType Name=\"Event\" BaseType=\"Trippin.PlanItem\"><Property Name=\"OccursAt\" Type=\"Trippin.EventLocation\" /><Property Name=\"Description\" Type=\"Edm.String\" /></EntityType><EntityType Name=\"PublicTransportation\" BaseType=\"Trippin.PlanItem\"><Property Name=\"SeatNumber\" Type=\"Edm.String\" /></EntityType><EntityType Name=\"Flight\" BaseType=\"Trippin.PublicTransportation\"><Property Name=\"FlightNumber\" Type=\"Edm.String\" /><NavigationProperty Name=\"Airline\" Type=\"Trippin.Airline\" /><NavigationProperty Name=\"From\" Type=\"Trippin.Airport\" /><NavigationProperty Name=\"To\" Type=\"Trippin.Airport\" /></EntityType><EntityType Name=\"Employee\" BaseType=\"Trippin.Person\"><Property Name=\"Cost\" Type=\"Edm.Int64\" Nullable=\"false\" /><NavigationProperty Name=\"Peers\" Type=\"Collection(Trippin.Person)\" /></EntityType><EntityType Name=\"Manager\" BaseType=\"Trippin.Person\"><Property Name=\"Budget\" Type=\"Edm.Int64\" Nullable=\"false\" /><Property Name=\"BossOffice\" Type=\"Trippin.Location\" /><NavigationProperty Name=\"DirectReports\" Type=\"Collection(Trippin.Person)\" /></EntityType><EnumType Name=\"PersonGender\"><Member Name=\"Male\" Value=\"0\" /><Member Name=\"Female\" Value=\"1\" /><Member Name=\"Unknown\" Value=\"2\" /></EnumType><EnumType Name=\"Feature\"><Member Name=\"Feature1\" Value=\"0\" /><Member Name=\"Feature2\" Value=\"1\" /><Member Name=\"Feature3\" Value=\"2\" /><Member Name=\"Feature4\" Value=\"3\" /></EnumType><Function Name=\"GetPersonWithMostFriends\"><ReturnType Type=\"Trippin.Person\" /></Function><Function Name=\"GetNearestAirport\"><Parameter Name=\"lat\" Type=\"Edm.Double\" Nullable=\"false\" /><Parameter Name=\"lon\" Type=\"Edm.Double\" Nullable=\"false\" /><ReturnType Type=\"Trippin.Airport\" /></Function><Function Name=\"GetFavoriteAirline\" IsBound=\"true\" EntitySetPath=\"person\"><Parameter Name=\"person\" Type=\"Trippin.Person\" /><ReturnType Type=\"Trippin.Airline\" /></Function><Function Name=\"GetFriendsTrips\" IsBound=\"true\"><Parameter Name=\"person\" Type=\"Trippin.Person\" /><Parameter Name=\"userName\" Type=\"Edm.String\" Nullable=\"false\" Unicode=\"false\" /><ReturnType Type=\"Collection(Trippin.Trip)\" /></Function><Function Name=\"GetInvolvedPeople\" IsBound=\"true\"><Parameter Name=\"trip\" Type=\"Trippin.Trip\" /><ReturnType Type=\"Collection(Trippin.Person)\" /></Function><Action Name=\"ResetDataSource\" /><Action Name=\"UpdateLastName\" IsBound=\"true\"><Parameter Name=\"person\" Type=\"Trippin.Person\" /><Parameter Name=\"lastName\" Type=\"Edm.String\" Nullable=\"false\" Unicode=\"false\" /><ReturnType Type=\"Edm.Boolean\" Nullable=\"false\" /></Action><Action Name=\"ShareTrip\" IsBound=\"true\"><Parameter Name=\"personInstance\" Type=\"Trippin.Person\" /><Parameter Name=\"userName\" Type=\"Edm.String\" Nullable=\"false\" Unicode=\"false\" /><Parameter Name=\"tripId\" Type=\"Edm.Int32\" Nullable=\"false\" /></Action><EntityContainer Name=\"Container\"><EntitySet Name=\"People\" EntityType=\"Trippin.Person\"><NavigationPropertyBinding Path=\"BestFriend\" Target=\"People\" /><NavigationPropertyBinding Path=\"Friends\" Target=\"People\" /><NavigationPropertyBinding Path=\"Trippin.Employee/Peers\" Target=\"People\" /><NavigationPropertyBinding Path=\"Trippin.Manager/DirectReports\" Target=\"People\" /></EntitySet><EntitySet Name=\"Airlines\" EntityType=\"Trippin.Airline\"><Annotation Term=\"Org.OData.Core.V1.OptimisticConcurrency\"><Collection><PropertyPath>Name</PropertyPath></Collection></Annotation></EntitySet><EntitySet Name=\"Airports\" EntityType=\"Trippin.Airport\" /><Singleton Name=\"Me\" Type=\"Trippin.Person\"><NavigationPropertyBinding Path=\"BestFriend\" Target=\"People\" /><NavigationPropertyBinding Path=\"Friends\" Target=\"People\" /><NavigationPropertyBinding Path=\"Trippin.Employee/Peers\" Target=\"People\" /><NavigationPropertyBinding Path=\"Trippin.Manager/DirectReports\" Target=\"People\" /></Singleton><FunctionImport Name=\"GetPersonWithMostFriends\" Function=\"Trippin.GetPersonWithMostFriends\" EntitySet=\"People\" /><FunctionImport Name=\"GetNearestAirport\" Function=\"Trippin.GetNearestAirport\" EntitySet=\"Airports\" /><ActionImport Name=\"ResetDataSource\" Action=\"Trippin.ResetDataSource\" /></EntityContainer></Schema></edmx:DataServices></edmx:Edmx>'\n"
     ]
    }
   ],
   "source": [
    "# check there is content in the response\n",
    "print(metadata_response.content)"
   ]
  },
  {
   "cell_type": "markdown",
   "metadata": {},
   "source": [
    "## Understanding OData metadata structure"
   ]
  },
  {
   "cell_type": "markdown",
   "metadata": {},
   "source": [
    "The metadata of an OData service  is in **XML format** describing the data model (EDM - Entity Data Model) of the service (entities, relationships, functions, etc.). Since this metadata is not JSON, but XML, we would need to parse the XML content to read the data.\n",
    "\n",
    "The *edm* namespace is specifically used within OData *metadata* documents (`$metadata`) to define the structure and schema of the data exposed by the OData service.\n",
    "\n",
    "-------------------\n",
    "\n",
    " The metadata document, returned in XML format, describes the **data model** of the OData service, including its **entity sets**, **entity types**, **complex types**, **associations**, **functions**, and more. \n",
    "\n",
    "\n",
    "- **EntityContainer** \n",
    "\n",
    "The EntityContainer is the entry point for the data model and encapsulates the entity sets, function imports, and singletons available in the service. It represents the set of entities and operations exposed by the service.\n",
    "\n",
    "- **EntitySet**\n",
    "\n",
    "An EntitySet represents a collection of entities of the same type. For example, a \"Products\" entity set would represent all product entities available in the service.\n",
    "\n",
    "- **EntityType**\n",
    "\n",
    "An EntityType defines the structure of an entity, including its properties and keys. It's similar to defining a class in object-oriented programming, where the properties represent the data fields of the entity.\n",
    "\n",
    "*Key*: uniquely identifies the entity within an entity set (similar to **primary keys**) -> Can be the PropertyRef\n",
    "\n",
    "*PropertyRef*: points to a property (or a set of properties) within an entity type that serves as the unique identifier for entities of that type\n",
    "\n",
    "*Property*: represents the attribute of an entity (similar to how **columns** define the schema of a table in relational DBs)\n",
    "\n",
    "\n",
    "<EntityType Name=\"Product\">\n",
    "    <Key>\n",
    "        <PropertyRef Name=\"ProductID\" />\n",
    "    </Key>\n",
    "    <Property Name=\"ProductID\" Type=\"Edm.Int32\" Nullable=\"false\"/>\n",
    "\n",
    "</EntityType>\n",
    "\n",
    "\n",
    "\n",
    "- **ComplexType**\n",
    "\n",
    "A ComplexType is used to define a structured type that doesn't have a key and is used to group properties. It can be used within entity types or other complex types.\n",
    "\n",
    "- **Association** Properties \n",
    "\n",
    "Associations define the *relationships* between entity types.\n",
    "\n",
    "- **Navigation** Properties\n",
    "\n",
    "Navigation properties are used within entity types to navigate to *associations*. Access navigations via `$expand`, e.g., `GET /Authors(1)?$expand=WrittenBooks`\n",
    "\n",
    "- **Function** and **Action**\n",
    "\n",
    "Functions and actions represent operations that can be performed on the data. *Functions* are operations that *don't have side effects*, whereas *actions might modify data*.\n",
    "\n",
    "\n",
    "--------------------\n",
    "The namespace `http://docs.oasis-open.org/odata/ns/edm` for the Entity Data Model (EDM) is **standard across all OData services for elements and attributes that are part of the OData version 4 specification defined by the OASIS consortium. This means that whenever you see this namespace in an OData service's $metadata document, it signifies elements that are consistent with the OData version 4 specifications, such as entity types, entity sets, complex types, functions, actions, and more.\n",
    "\n",
    "However, **custom namespaces** can be defined by OData services to extend the EDM with custom elements and attributes. These custom namespaces are typically used to define service-specific elements and attributes."
   ]
  },
  {
   "cell_type": "code",
   "execution_count": 12,
   "metadata": {},
   "outputs": [
    {
     "name": "stdout",
     "output_type": "stream",
     "text": [
      "Succeeded to retrieve data\n",
      "\n",
      "\n",
      "EntityType {'Name': 'Person'}\n",
      "Key {}\n",
      "PropertyRef {'Name': 'UserName'}\n",
      "Property {'Name': 'UserName', 'Type': 'Edm.String', 'Nullable': 'false'}\n",
      "Property {'Name': 'FirstName', 'Type': 'Edm.String', 'Nullable': 'false'}\n",
      "Property {'Name': 'LastName', 'Type': 'Edm.String', 'MaxLength': '26'}\n",
      "Property {'Name': 'MiddleName', 'Type': 'Edm.String'}\n",
      "Property {'Name': 'Gender', 'Type': 'Trippin.PersonGender', 'Nullable': 'false'}\n",
      "Property {'Name': 'Age', 'Type': 'Edm.Int64'}\n",
      "Property {'Name': 'Emails', 'Type': 'Collection(Edm.String)'}\n",
      "Property {'Name': 'AddressInfo', 'Type': 'Collection(Trippin.Location)'}\n",
      "Property {'Name': 'HomeAddress', 'Type': 'Trippin.Location'}\n",
      "Property {'Name': 'FavoriteFeature', 'Type': 'Trippin.Feature', 'Nullable': 'false'}\n",
      "Property {'Name': 'Features', 'Type': 'Collection(Trippin.Feature)', 'Nullable': 'false'}\n",
      "NavigationProperty {'Name': 'Friends', 'Type': 'Collection(Trippin.Person)'}\n",
      "NavigationProperty {'Name': 'BestFriend', 'Type': 'Trippin.Person'}\n",
      "NavigationProperty {'Name': 'Trips', 'Type': 'Collection(Trippin.Trip)'}\n",
      "\n",
      "EntityType {'Name': 'Airline'}\n",
      "Key {}\n",
      "PropertyRef {'Name': 'AirlineCode'}\n",
      "Property {'Name': 'AirlineCode', 'Type': 'Edm.String', 'Nullable': 'false'}\n",
      "Property {'Name': 'Name', 'Type': 'Edm.String'}\n",
      "\n",
      "EntityType {'Name': 'Airport'}\n",
      "Key {}\n",
      "PropertyRef {'Name': 'IcaoCode'}\n",
      "Property {'Name': 'Name', 'Type': 'Edm.String'}\n",
      "Property {'Name': 'IcaoCode', 'Type': 'Edm.String', 'Nullable': 'false'}\n",
      "Property {'Name': 'IataCode', 'Type': 'Edm.String'}\n",
      "Property {'Name': 'Location', 'Type': 'Trippin.AirportLocation'}\n",
      "ComplexType {'Name': 'Location'}\n",
      "Property {'Name': 'Address', 'Type': 'Edm.String'}\n",
      "Property {'Name': 'City', 'Type': 'Trippin.City'}\n",
      "ComplexType {'Name': 'City'}\n",
      "Property {'Name': 'Name', 'Type': 'Edm.String'}\n",
      "Property {'Name': 'CountryRegion', 'Type': 'Edm.String'}\n",
      "Property {'Name': 'Region', 'Type': 'Edm.String'}\n",
      "ComplexType {'Name': 'AirportLocation', 'BaseType': 'Trippin.Location'}\n",
      "Property {'Name': 'Loc', 'Type': 'Edm.GeographyPoint'}\n",
      "ComplexType {'Name': 'EventLocation', 'BaseType': 'Trippin.Location'}\n",
      "Property {'Name': 'BuildingInfo', 'Type': 'Edm.String'}\n",
      "\n",
      "EntityType {'Name': 'Trip'}\n",
      "Key {}\n",
      "PropertyRef {'Name': 'TripId'}\n",
      "Property {'Name': 'TripId', 'Type': 'Edm.Int32', 'Nullable': 'false'}\n",
      "Property {'Name': 'ShareId', 'Type': 'Edm.Guid', 'Nullable': 'false'}\n",
      "Property {'Name': 'Name', 'Type': 'Edm.String'}\n",
      "Property {'Name': 'Budget', 'Type': 'Edm.Single', 'Nullable': 'false'}\n",
      "Property {'Name': 'Description', 'Type': 'Edm.String'}\n",
      "Property {'Name': 'Tags', 'Type': 'Collection(Edm.String)'}\n",
      "Property {'Name': 'StartsAt', 'Type': 'Edm.DateTimeOffset', 'Nullable': 'false'}\n",
      "Property {'Name': 'EndsAt', 'Type': 'Edm.DateTimeOffset', 'Nullable': 'false'}\n",
      "NavigationProperty {'Name': 'PlanItems', 'Type': 'Collection(Trippin.PlanItem)'}\n",
      "\n",
      "EntityType {'Name': 'PlanItem'}\n",
      "Key {}\n",
      "PropertyRef {'Name': 'PlanItemId'}\n",
      "Property {'Name': 'PlanItemId', 'Type': 'Edm.Int32', 'Nullable': 'false'}\n",
      "Property {'Name': 'ConfirmationCode', 'Type': 'Edm.String'}\n",
      "Property {'Name': 'StartsAt', 'Type': 'Edm.DateTimeOffset', 'Nullable': 'false'}\n",
      "Property {'Name': 'EndsAt', 'Type': 'Edm.DateTimeOffset', 'Nullable': 'false'}\n",
      "Property {'Name': 'Duration', 'Type': 'Edm.Duration', 'Nullable': 'false'}\n",
      "\n",
      "EntityType {'Name': 'Event', 'BaseType': 'Trippin.PlanItem'}\n",
      "Property {'Name': 'OccursAt', 'Type': 'Trippin.EventLocation'}\n",
      "Property {'Name': 'Description', 'Type': 'Edm.String'}\n",
      "\n",
      "EntityType {'Name': 'PublicTransportation', 'BaseType': 'Trippin.PlanItem'}\n",
      "Property {'Name': 'SeatNumber', 'Type': 'Edm.String'}\n",
      "\n",
      "EntityType {'Name': 'Flight', 'BaseType': 'Trippin.PublicTransportation'}\n",
      "Property {'Name': 'FlightNumber', 'Type': 'Edm.String'}\n",
      "NavigationProperty {'Name': 'Airline', 'Type': 'Trippin.Airline'}\n",
      "NavigationProperty {'Name': 'From', 'Type': 'Trippin.Airport'}\n",
      "NavigationProperty {'Name': 'To', 'Type': 'Trippin.Airport'}\n",
      "\n",
      "EntityType {'Name': 'Employee', 'BaseType': 'Trippin.Person'}\n",
      "Property {'Name': 'Cost', 'Type': 'Edm.Int64', 'Nullable': 'false'}\n",
      "NavigationProperty {'Name': 'Peers', 'Type': 'Collection(Trippin.Person)'}\n",
      "\n",
      "EntityType {'Name': 'Manager', 'BaseType': 'Trippin.Person'}\n",
      "Property {'Name': 'Budget', 'Type': 'Edm.Int64', 'Nullable': 'false'}\n",
      "Property {'Name': 'BossOffice', 'Type': 'Trippin.Location'}\n",
      "NavigationProperty {'Name': 'DirectReports', 'Type': 'Collection(Trippin.Person)'}\n",
      "EnumType {'Name': 'PersonGender'}\n",
      "Member {'Name': 'Male', 'Value': '0'}\n",
      "Member {'Name': 'Female', 'Value': '1'}\n",
      "Member {'Name': 'Unknown', 'Value': '2'}\n",
      "EnumType {'Name': 'Feature'}\n",
      "Member {'Name': 'Feature1', 'Value': '0'}\n",
      "Member {'Name': 'Feature2', 'Value': '1'}\n",
      "Member {'Name': 'Feature3', 'Value': '2'}\n",
      "Member {'Name': 'Feature4', 'Value': '3'}\n",
      "Function {'Name': 'GetPersonWithMostFriends'}\n",
      "ReturnType {'Type': 'Trippin.Person'}\n",
      "Function {'Name': 'GetNearestAirport'}\n",
      "Parameter {'Name': 'lat', 'Type': 'Edm.Double', 'Nullable': 'false'}\n",
      "Parameter {'Name': 'lon', 'Type': 'Edm.Double', 'Nullable': 'false'}\n",
      "ReturnType {'Type': 'Trippin.Airport'}\n",
      "Function {'Name': 'GetFavoriteAirline', 'IsBound': 'true', 'EntitySetPath': 'person'}\n",
      "Parameter {'Name': 'person', 'Type': 'Trippin.Person'}\n",
      "ReturnType {'Type': 'Trippin.Airline'}\n",
      "Function {'Name': 'GetFriendsTrips', 'IsBound': 'true'}\n",
      "Parameter {'Name': 'person', 'Type': 'Trippin.Person'}\n",
      "Parameter {'Name': 'userName', 'Type': 'Edm.String', 'Nullable': 'false', 'Unicode': 'false'}\n",
      "ReturnType {'Type': 'Collection(Trippin.Trip)'}\n",
      "Function {'Name': 'GetInvolvedPeople', 'IsBound': 'true'}\n",
      "Parameter {'Name': 'trip', 'Type': 'Trippin.Trip'}\n",
      "ReturnType {'Type': 'Collection(Trippin.Person)'}\n",
      "Action {'Name': 'ResetDataSource'}\n",
      "Action {'Name': 'UpdateLastName', 'IsBound': 'true'}\n",
      "Parameter {'Name': 'person', 'Type': 'Trippin.Person'}\n",
      "Parameter {'Name': 'lastName', 'Type': 'Edm.String', 'Nullable': 'false', 'Unicode': 'false'}\n",
      "ReturnType {'Type': 'Edm.Boolean', 'Nullable': 'false'}\n",
      "Action {'Name': 'ShareTrip', 'IsBound': 'true'}\n",
      "Parameter {'Name': 'personInstance', 'Type': 'Trippin.Person'}\n",
      "Parameter {'Name': 'userName', 'Type': 'Edm.String', 'Nullable': 'false', 'Unicode': 'false'}\n",
      "Parameter {'Name': 'tripId', 'Type': 'Edm.Int32', 'Nullable': 'false'}\n",
      "EntityContainer {'Name': 'Container'}\n",
      "EntitySet {'Name': 'People', 'EntityType': 'Trippin.Person'}\n",
      "NavigationPropertyBinding {'Path': 'BestFriend', 'Target': 'People'}\n",
      "NavigationPropertyBinding {'Path': 'Friends', 'Target': 'People'}\n",
      "NavigationPropertyBinding {'Path': 'Trippin.Employee/Peers', 'Target': 'People'}\n",
      "NavigationPropertyBinding {'Path': 'Trippin.Manager/DirectReports', 'Target': 'People'}\n",
      "EntitySet {'Name': 'Airlines', 'EntityType': 'Trippin.Airline'}\n",
      "Annotation {'Term': 'Org.OData.Core.V1.OptimisticConcurrency'}\n",
      "Collection {}\n",
      "PropertyPath {}\n",
      "EntitySet {'Name': 'Airports', 'EntityType': 'Trippin.Airport'}\n",
      "Singleton {'Name': 'Me', 'Type': 'Trippin.Person'}\n",
      "NavigationPropertyBinding {'Path': 'BestFriend', 'Target': 'People'}\n",
      "NavigationPropertyBinding {'Path': 'Friends', 'Target': 'People'}\n",
      "NavigationPropertyBinding {'Path': 'Trippin.Employee/Peers', 'Target': 'People'}\n",
      "NavigationPropertyBinding {'Path': 'Trippin.Manager/DirectReports', 'Target': 'People'}\n",
      "FunctionImport {'Name': 'GetPersonWithMostFriends', 'Function': 'Trippin.GetPersonWithMostFriends', 'EntitySet': 'People'}\n",
      "FunctionImport {'Name': 'GetNearestAirport', 'Function': 'Trippin.GetNearestAirport', 'EntitySet': 'Airports'}\n",
      "ActionImport {'Name': 'ResetDataSource', 'Action': 'Trippin.ResetDataSource'}\n",
      "\n"
     ]
    }
   ],
   "source": [
    "import xml.etree.ElementTree as ET\n",
    "\n",
    "xml_metadata = \"\"\n",
    "\n",
    "def save_XML_data(tag, attribute, XML_data):\n",
    "\n",
    "    short_tag = tag.split(\"}\")[1]\n",
    "\n",
    "    if short_tag == \"Edmx\" or short_tag == \"DataServices\" or short_tag == \"Schema\":\n",
    "        return XML_data\n",
    "\n",
    "    if short_tag == 'EntityType':\n",
    "        XML_data += \"\\n\"\n",
    "    XML_data += f\"{short_tag} {attribute}\\n\"\n",
    "\n",
    "    return XML_data\n",
    "\n",
    "\n",
    "# Check if the request was successful\n",
    "if metadata_response.status_code == 200:\n",
    "    # Parse the XML response\n",
    "    root = ET.fromstring(metadata_response.content)\n",
    "             \n",
    "    # Now you can work with the XML data\n",
    "    # For example, print out the XML tree structure\n",
    "    for entity in root.iter():        \n",
    "\n",
    "        xml_metadata = save_XML_data(entity.tag, entity.attrib, xml_metadata)\n",
    "        \n",
    "    print(\"Succeeded to retrieve data\\n\")\n",
    "else:\n",
    "    print(f\"Failed to retrieve data: {metadata_response.status_code}\")\n",
    "\n",
    "print(xml_metadata)\n"
   ]
  },
  {
   "cell_type": "markdown",
   "metadata": {},
   "source": [
    "https://docs.python.org/3/library/xml.etree.elementtree.html#xml.etree.ElementTree.ElementTree.write\n",
    "\n",
    "(formatted the indentation of XML in Notepad++)"
   ]
  },
  {
   "cell_type": "code",
   "execution_count": 10,
   "metadata": {},
   "outputs": [],
   "source": [
    "#optional; Debugging purposes\n",
    "\n",
    "tree = ET.ElementTree(root)\n",
    "\n",
    "tree.write(\"output.xml\")"
   ]
  },
  {
   "cell_type": "markdown",
   "metadata": {},
   "source": [
    "### ~~~Save Metadata - DRAFT~~~\n",
    "\n",
    "https://www.mssqltips.com/sqlservertip/2899/importing-and-processing-data-from-xml-files-into-sql-server-tables/\n",
    "\n",
    "In SQL Server Management Studio created new table\n",
    "\n",
    "```\n",
    "CREATE TABLE XML_metadata\n",
    "(\n",
    "\tId INT IDENTITY PRIMARY KEY, \n",
    "\tXMLData XML, \n",
    "\tLoadedDateTime DATETIME\n",
    ")\n",
    "```\n",
    "\n"
   ]
  },
  {
   "cell_type": "markdown",
   "metadata": {},
   "source": [
    "# Formulate query"
   ]
  },
  {
   "cell_type": "code",
   "execution_count": 13,
   "metadata": {},
   "outputs": [
    {
     "data": {
      "text/plain": [
       "Kernel(plugins=KernelPluginCollection(plugins={}), prompt_template_engine=PromptTemplateEngine(), memory=NullMemory(), text_completion_services={'chat_completion': <function Kernel.add_text_completion_service.<locals>.<lambda> at 0x000002D9A0218A40>}, chat_services={'chat_completion': <function Kernel.add_chat_service.<locals>.<lambda> at 0x000002D9A02189A0>}, text_embedding_generation_services={}, default_text_completion_service='chat_completion', default_chat_service='chat_completion', default_text_embedding_generation_service=None, retry_mechanism=PassThroughWithoutRetry(), function_invoking_handlers={}, function_invoked_handlers={})"
      ]
     },
     "execution_count": 13,
     "metadata": {},
     "output_type": "execute_result"
    }
   ],
   "source": [
    "import semantic_kernel as sk\n",
    "from semantic_kernel.connectors.ai.open_ai import (\n",
    "    AzureChatCompletion,\n",
    "    OpenAIChatCompletion,\n",
    ")\n",
    "\n",
    "kernel = sk.Kernel()\n",
    "\n",
    "deployment, api_key, endpoint = sk.azure_openai_settings_from_dot_env()\n",
    "\n",
    "kernel.add_chat_service(\n",
    "    \"chat_completion\",\n",
    "    AzureChatCompletion(deployment_name=deployment, endpoint=endpoint, api_key=api_key),\n",
    ")\n",
    "\n"
   ]
  },
  {
   "cell_type": "markdown",
   "metadata": {},
   "source": [
    "### AOAI model analyze schema and user request\n",
    "\n",
    "Get from Schema the following information: TableName, ColumnName and ConstraintType"
   ]
  },
  {
   "cell_type": "code",
   "execution_count": 35,
   "metadata": {},
   "outputs": [
    {
     "name": "stdout",
     "output_type": "stream",
     "text": [
      "https://services.odata.org/TripPinRESTierService/People('russellwhyte')/Trips?$select=Name,Description,StartsAt,EndsAt\n"
     ]
    }
   ],
   "source": [
    "sk_prompt_analyze_metadata = \"\"\"\n",
    "We have a database that is accessible via OData service ({{$odata_service_api}})). We have access to the metadata. Based on the {{$metadata}} and user request {{$user_request}}, we need to generate an API request to send back to te database in order to retrieve the required information to answer the user request. \n",
    "Try to make the API request as specific as possible (retrieve only the relevant fields, for example NOT the IDs), and include the parameters that are required to retrieve the information. Only make use of the parameters that are available in the metadata.\n",
    "Include the base URL. Give only the query that can be directly run against the database. No other explanations. \n",
    "\"\"\"\n",
    "\n",
    "chat_function = kernel.create_semantic_function(\n",
    "    prompt_template=sk_prompt_analyze_metadata,\n",
    "    function_name=\"ChatBot\",\n",
    "    max_tokens=2000,\n",
    "    temperature=0,\n",
    "    top_p=0.5,\n",
    ")\n",
    "\n",
    "context = kernel.create_new_context()\n",
    "context[\"odata_service_api\"] = \"https://services.odata.org/TripPinRESTierService\"\n",
    "context[\"metadata\"] = xml_metadata\n",
    "context[\"user_request\"] = \"what trips did russel whyte do?\"\n",
    "\n",
    "bot_answer = await chat_function.invoke(context=context)\n",
    "\n",
    "print(bot_answer)"
   ]
  },
  {
   "cell_type": "markdown",
   "metadata": {},
   "source": [
    "## Get answer from DB"
   ]
  },
  {
   "cell_type": "code",
   "execution_count": 36,
   "metadata": {},
   "outputs": [
    {
     "name": "stdout",
     "output_type": "stream",
     "text": [
      "Succeeded to retrieve data: 200\n",
      "b'{\"@odata.context\":\"https://services.odata.org/TripPinRESTierService/(S(c42thhn11snkh4vvvspvyweo))/$metadata#Collection(Trippin.Trip)\",\"value\":[{\"Name\":\"Trip in US\",\"Description\":\"Trip from San Francisco to New York City\",\"StartsAt\":\"2014-01-01T00:00:00Z\",\"EndsAt\":\"2014-01-04T00:00:00Z\"},{\"Name\":\"Trip in Beijing\",\"Description\":\"Trip from Shanghai to Beijing\",\"StartsAt\":\"2014-02-01T00:00:00Z\",\"EndsAt\":\"2014-02-04T00:00:00Z\"},{\"Name\":\"Honeymoon\",\"Description\":\"Happy honeymoon trip\",\"StartsAt\":\"2014-02-01T00:00:00Z\",\"EndsAt\":\"2014-02-04T00:00:00Z\"}]}'\n"
     ]
    }
   ],
   "source": [
    "# Your OData service URL\n",
    "url = bot_answer\n",
    "\n",
    "\n",
    "# Make a GET request with basic authentication\n",
    "response = requests.get(url)\n",
    "\n",
    "# Check if the request was successful\n",
    "if response.status_code == 200:\n",
    "    # Process the response data (assuming it's JSON)\n",
    "    print(f\"Succeeded to retrieve data: {response.status_code}\")\n",
    "\n",
    "    \n",
    "    print(response.content)\n",
    "else:\n",
    "    print(f\"Failed to retrieve data: {response.status_code}\")\n",
    "\n"
   ]
  },
  {
   "cell_type": "markdown",
   "metadata": {},
   "source": [
    "To make the response cleaner and shorter:"
   ]
  },
  {
   "cell_type": "code",
   "execution_count": 37,
   "metadata": {},
   "outputs": [
    {
     "name": "stdout",
     "output_type": "stream",
     "text": [
      "{value: [{Name: Trip in US, Description: Trip from San Francisco to New York City, StartsAt: 2014-01-01T00:00:00Z, EndsAt: 2014-01-04T00:00:00Z}, {Name: Trip in Beijing, Description: Trip from Shanghai to Beijing, StartsAt: 2014-02-01T00:00:00Z, EndsAt: 2014-02-04T00:00:00Z}, {Name: Honeymoon, Description: Happy honeymoon trip, StartsAt: 2014-02-01T00:00:00Z, EndsAt: 2014-02-04T00:00:00Z}]}\n"
     ]
    }
   ],
   "source": [
    "import json\n",
    "\n",
    "response_dict = json.loads(response.text)\n",
    "\n",
    "response_dict.pop('@odata.context')\n",
    "\n",
    "string_answer = json.dumps(response_dict)\n",
    "\n",
    "string_answer = string_answer.replace(\"\\\"\", '')\n",
    "\n",
    "print(string_answer)"
   ]
  },
  {
   "cell_type": "markdown",
   "metadata": {},
   "source": [
    "## Generate answer back to the user based on retrieved data"
   ]
  },
  {
   "cell_type": "code",
   "execution_count": 38,
   "metadata": {},
   "outputs": [
    {
     "name": "stdout",
     "output_type": "stream",
     "text": [
      "Russel Whyte did the following trips:\n",
      "\n",
      "1. A trip in the US from San Francisco to New York City. This trip started on January 1, 2014, and ended on January 4, 2014.\n",
      "\n",
      "2. A trip in Beijing from Shanghai to Beijing. This trip started on February 1, 2014, and ended on February 4, 2014.\n",
      "\n",
      "3. A honeymoon trip. The details of the location are not specified, but it started on February 1, 2014, and ended on February 4, 2014.\n"
     ]
    }
   ],
   "source": [
    "sk_prompt_reply_user = \"\"\"\n",
    "Use the given information (retrieved_data) to answer the user's request. User request: {{$user_request}}. Retrieved_data: {{$retrieved_data}}.\n",
    "\"\"\"\n",
    "\n",
    "reply_function = kernel.create_semantic_function(\n",
    "    prompt_template=sk_prompt_reply_user,\n",
    "    function_name=\"ChatBot\",\n",
    "    max_tokens=2000,\n",
    "    temperature=0.5,\n",
    "    top_p=0.5,\n",
    ")\n",
    "\n",
    "context[\"retrieved_data\"] = string_answer\n",
    "\n",
    "bot_answer = await reply_function.invoke(context=context)\n",
    "\n",
    "print(bot_answer)"
   ]
  }
 ],
 "metadata": {
  "kernelspec": {
   "display_name": ".venv",
   "language": "python",
   "name": "python3"
  },
  "language_info": {
   "codemirror_mode": {
    "name": "ipython",
    "version": 3
   },
   "file_extension": ".py",
   "mimetype": "text/x-python",
   "name": "python",
   "nbconvert_exporter": "python",
   "pygments_lexer": "ipython3",
   "version": "3.12.2"
  }
 },
 "nbformat": 4,
 "nbformat_minor": 2
}
